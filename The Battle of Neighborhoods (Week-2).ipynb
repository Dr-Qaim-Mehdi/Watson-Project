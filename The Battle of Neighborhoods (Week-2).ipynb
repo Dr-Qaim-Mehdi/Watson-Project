{
    "cells": [
        {
            "cell_type": "code",
            "execution_count": null,
            "metadata": {},
            "outputs": [],
            "source": "import pandas as pd\nimport numpy as np\npd.set_option('display.max_columns', None)\npd.set_option('display.max_rows', None)\nimport requests\nimport sys\nfrom bs4 import BeautifulSoup\nimport geocoder\nimport os\nimport folium # map rendering library\nfrom geopy.geocoders import Nominatim \nimport matplotlib.pyplot as plt\nimport matplotlib.cm as cm\nimport matplotlib.colors as colors\n%matplotlib inline\n\n\nprint('Libraries imported.')"
        },
        {
            "cell_type": "code",
            "execution_count": 2,
            "metadata": {},
            "outputs": [],
            "source": "def geo_location(address):\n    # get geo location of address\n    geolocator = Nominatim(user_agent=\"ny_explorer\")\n    location = geolocator.geocode(address)\n    latitude = location.latitude\n    longitude = location.longitude\n    return latitude,longitude"
        },
        {
            "cell_type": "code",
            "execution_count": 3,
            "metadata": {},
            "outputs": [],
            "source": "def get_venues(lat,lng):\n    \n    #set variables\n    radius=1000\n    LIMIT=100\n    CLIENT_ID = '########################################' # changed my Foursquare ID\n    CLIENT_SECRET = '##################################' # changed Foursquare Secret\n    VERSION = '20180605' # Foursquare API version\n    \n    #url to fetch data from foursquare api\n    url = 'https://api.foursquare.com/v2/venues/explore?&client_id={}&client_secret={}&v={}&ll={},{}&radius={}&limit={}'.format(\n            CLIENT_ID, \n            CLIENT_SECRET, \n            VERSION, \n            lat, \n            lng, \n            radius, \n            LIMIT)\n    \n    # get all the data\n    results = requests.get(url).json()\n    venue_data=results[\"response\"]['groups'][0]['items']\n    venue_details=[]\n    for row in venue_data:\n        try:\n            venue_id=row['venue']['id']\n            venue_name=row['venue']['name']\n            venue_category=row['venue']['categories'][0]['name']\n            venue_details.append([venue_id,venue_name,venue_category])\n        except KeyError:\n            pass\n        \n    column_names=['ID','Name','Category']\n    df = pd.DataFrame(venue_details,columns=column_names)\n    print(\"done\")\n    return df"
        },
        {
            "cell_type": "code",
            "execution_count": 4,
            "metadata": {},
            "outputs": [],
            "source": "def get_venue_details(venue_id):\n        \n    CLIENT_ID = '###########################' # i have changed the id with ##\n    CLIENT_SECRET = '############################' # i have changed the secret with ##\n    VERSION = '20180605' # Foursquare API version\n    \n    #url to fetch data from foursquare api\n    url = 'https://api.foursquare.com/v2/venues/{}?&client_id={}&client_secret={}&v={}'.format(\n            venue_id,\n            CLIENT_ID, \n            CLIENT_SECRET, \n            VERSION)\n    \n    # get all the data\n    results = requests.get(url).json()\n    venue_data=results['response']['venue']\n    venue_details=[]\n    try:\n        venue_id=venue_data['id']\n        venue_name=venue_data['name']\n        venue_likes=venue_data['likes']['count']\n        venue_rating=venue_data['rating']\n        venue_tips=venue_data['tips']['count']\n        venue_details.append([venue_id,venue_name,venue_likes,venue_rating,venue_tips])\n    except KeyError:\n        pass\n        \n    column_names=['ID','Name','Likes','Rating','Tips']\n    df = pd.DataFrame(venue_details,columns=column_names)\n    return df"
        },
        {
            "cell_type": "code",
            "execution_count": null,
            "metadata": {},
            "outputs": [],
            "source": "# get new york data\nnew_york_data=get_new_york_data()\nnew_york_data.head()"
        },
        {
            "cell_type": "code",
            "execution_count": 7,
            "metadata": {},
            "outputs": [
                {
                    "name": "stdout",
                    "output_type": "stream",
                    "text": "\n"
                }
            ],
            "source": "new_york_data.shape"
        },
        {
            "cell_type": "code",
            "execution_count": 9,
            "metadata": {},
            "outputs": [
                {
                    "name": "stdout",
                    "output_type": "stream",
                    "text": "\n"
                }
            ],
            "source": "plt.figure(figsize=(9,5), dpi = 100)\n# title\nplt.title('Number of Neighborhood for each Borough in New York City')\n#On x-axis\nplt.xlabel('Borough', fontsize = 15)\n#On y-axis\nplt.ylabel('No.of Neighborhood', fontsize=15)\n#giving a bar plot\nnew_york_data.groupby('Borough')['Neighborhood'].count().plot(kind='bar')\n#legend\nplt.legend()\n#displays the plot\nplt.show()"
        },
        {
            "cell_type": "code",
            "execution_count": 11,
            "metadata": {},
            "outputs": [
                {
                    "name": "stdout",
                    "output_type": "stream",
                    "text": "\n"
                }
            ],
            "source": "# prepare neighborhood list that contains indian resturants\ncolumn_names=['Borough', 'Neighborhood', 'ID','Name']\nindian_rest_ny=pd.DataFrame(columns=column_names)\ncount=1\nfor row in new_york_data.values.tolist():\n    Borough, Neighborhood, Latitude, Longitude=row\n    venues = get_venues(Latitude,Longitude)\n    indian_resturants=venues[venues['Category']=='Indian Restaurant']   \n    print('(',count,'/',len(new_york_data),')','Indian Resturants in '+Neighborhood+', '+Borough+':'+str(len(indian_resturants)))\n    for resturant_detail in indian_resturants.values.tolist():\n        id, name , category=resturant_detail\n        indian_rest_ny = indian_rest_ny.append({'Borough': Borough,\n                                                'Neighborhood': Neighborhood, \n                                                'ID': id,\n                                                'Name' : name\n                                               }, ignore_index=True)\n    count+=1"
        },
        {
            "cell_type": "code",
            "execution_count": 12,
            "metadata": {},
            "outputs": [
                {
                    "data": {
                        "text/html": "<div>\n<style scoped>\n    .dataframe tbody tr th:only-of-type {\n        vertical-align: middle;\n    }\n\n    .dataframe tbody tr th {\n        vertical-align: top;\n    }\n\n    .dataframe thead th {\n        text-align: right;\n    }\n</style>\n<table border=\"1\" class=\"dataframe\">\n  <thead>\n    <tr style=\"text-align: right;\">\n      <th></th>\n      <th>Borough</th>\n      <th>Neighborhood</th>\n      <th>ID</th>\n      <th>Name</th>\n    </tr>\n  </thead>\n  <tbody>\n  </tbody>\n</table>\n</div>",
                        "text/plain": "Empty DataFrame\nColumns: [Borough, Neighborhood, ID, Name]\nIndex: []"
                    },
                    "execution_count": 12,
                    "metadata": {},
                    "output_type": "execute_result"
                }
            ],
            "source": "indian_rest_ny.head()"
        },
        {
            "cell_type": "code",
            "execution_count": 13,
            "metadata": {},
            "outputs": [
                {
                    "data": {
                        "text/plain": "(0, 4)"
                    },
                    "execution_count": 13,
                    "metadata": {},
                    "output_type": "execute_result"
                }
            ],
            "source": "indian_rest_ny.shape"
        },
        {
            "cell_type": "code",
            "execution_count": null,
            "metadata": {},
            "outputs": [],
            "source": "plt.figure(figsize=(9,5), dpi = 100)\n# title\nplt.title('Number of Indian Resturants for each Borough in New York City')\n#On x-axis\nplt.xlabel('Borough', fontsize = 15)\n#On y-axis\nplt.ylabel('No.of Indian Resturants', fontsize=15)\n#giving a bar plot\nindian_rest_ny.groupby('Borough')['ID'].count().plot(kind='bar')\n#legend\nplt.legend()\n#displays the plot\nplt.show()"
        },
        {
            "cell_type": "code",
            "execution_count": 16,
            "metadata": {},
            "outputs": [
                {
                    "name": "stdout",
                    "output_type": "stream",
                    "text": "\n"
                }
            ],
            "source": "plt.figure(figsize=(9,5), dpi = 100)\n# title\nplt.title('Number of Indian Resturants for each Neighborhood in New York City')\n#On x-axis\nplt.xlabel('Neighborhood', fontsize = 15)\n#On y-axis\nplt.ylabel('No.of Indian Resturants', fontsize=15)\n#giving a bar plot\nindian_rest_ny.groupby('Neighborhood')['ID'].count().nlargest(5).plot(kind='bar')\n#legend\nplt.legend()\n#displays the plot\nplt.show()"
        },
        {
            "cell_type": "code",
            "execution_count": 14,
            "metadata": {},
            "outputs": [
                {
                    "data": {
                        "text/html": "<div>\n<style scoped>\n    .dataframe tbody tr th:only-of-type {\n        vertical-align: middle;\n    }\n\n    .dataframe tbody tr th {\n        vertical-align: top;\n    }\n\n    .dataframe thead th {\n        text-align: right;\n    }\n</style>\n<table border=\"1\" class=\"dataframe\">\n  <thead>\n    <tr style=\"text-align: right;\">\n      <th></th>\n      <th>Borough</th>\n      <th>Neighborhood</th>\n      <th>ID</th>\n      <th>Name</th>\n    </tr>\n  </thead>\n  <tbody>\n  </tbody>\n</table>\n</div>",
                        "text/plain": "Empty DataFrame\nColumns: [Borough, Neighborhood, ID, Name]\nIndex: []"
                    },
                    "execution_count": 14,
                    "metadata": {},
                    "output_type": "execute_result"
                }
            ],
            "source": "indian_rest_ny[indian_rest_ny['Neighborhood']=='Floral Park']"
        },
        {
            "cell_type": "code",
            "execution_count": null,
            "metadata": {},
            "outputs": [],
            "source": "# prepare neighborhood list that contains indian resturants\ncolumn_names=['Borough', 'Neighborhood', 'ID','Name','Likes','Rating','Tips']\nindian_rest_stats_ny=pd.DataFrame(columns=column_names)\ncount=1\n\n\nfor row in indian_rest_ny.values.tolist():\n    Borough,Neighborhood,ID,Name=row\n    try:\n        venue_details=get_venue_details(ID)\n        print(venue_details)\n        id,name,likes,rating,tips=venue_details.values.tolist()[0]\n    except IndexError:\n        print('No data available for id=',ID)\n        # we will assign 0 value for these resturants as they may have been \n        #recently opened or details does not exist in FourSquare Database\n        id,name,likes,rating,tips=[0]*5\n    print('(',count,'/',len(indian_rest_ny),')','processed')\n    indian_rest_stats_ny = indian_rest_stats_ny.append({'Borough': Borough,\n                                                'Neighborhood': Neighborhood, \n                                                'ID': id,\n                                                'Name' : name,\n                                                'Likes' : likes,\n                                                'Rating' : rating,\n                                                'Tips' : tips\n                                               }, ignore_index=True)\n    count+=1"
        }
    ],
    "metadata": {
        "kernelspec": {
            "display_name": "Python 3.6",
            "language": "python",
            "name": "python3"
        },
        "language_info": {
            "codemirror_mode": {
                "name": "ipython",
                "version": 3
            },
            "file_extension": ".py",
            "mimetype": "text/x-python",
            "name": "python",
            "nbconvert_exporter": "python",
            "pygments_lexer": "ipython3",
            "version": "3.6.9"
        }
    },
    "nbformat": 4,
    "nbformat_minor": 1
}